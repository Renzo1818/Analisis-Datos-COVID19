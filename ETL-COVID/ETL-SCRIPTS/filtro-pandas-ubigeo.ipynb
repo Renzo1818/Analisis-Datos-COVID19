{
 "cells": [
  {
   "cell_type": "markdown",
   "metadata": {},
   "source": [
    "##### IMPORTACION DE LIBRERIAS"
   ]
  },
  {
   "cell_type": "code",
   "execution_count": 1,
   "metadata": {},
   "outputs": [],
   "source": [
    "import pandas as pd\n",
    "import numpy as np"
   ]
  },
  {
   "cell_type": "markdown",
   "metadata": {},
   "source": [
    "##### EXTRACCION DE DATOS MASIVOS"
   ]
  },
  {
   "cell_type": "markdown",
   "metadata": {},
   "source": [
    "###### DEFINICION DEL DTYPE"
   ]
  },
  {
   "cell_type": "code",
   "execution_count": 2,
   "metadata": {},
   "outputs": [],
   "source": [
    "dtype_dict = {\n",
    "    'ubigeo_inei': 'object',\n",
    "    'departamento_inei': 'object',\n",
    "    'provincia_inei': 'object'\n",
    "}"
   ]
  },
  {
   "cell_type": "markdown",
   "metadata": {},
   "source": [
    "###### LECTURA DEL ARCHIVO CSV"
   ]
  },
  {
   "cell_type": "code",
   "execution_count": 3,
   "metadata": {},
   "outputs": [],
   "source": [
    "dicc_ubigeo = pd.read_csv(\"../DATASETS/TB_UBIGEOS.csv\", dtype=dtype_dict)"
   ]
  },
  {
   "cell_type": "code",
   "execution_count": 4,
   "metadata": {},
   "outputs": [
    {
     "data": {
      "text/html": [
       "<div>\n",
       "<style scoped>\n",
       "    .dataframe tbody tr th:only-of-type {\n",
       "        vertical-align: middle;\n",
       "    }\n",
       "\n",
       "    .dataframe tbody tr th {\n",
       "        vertical-align: top;\n",
       "    }\n",
       "\n",
       "    .dataframe thead th {\n",
       "        text-align: right;\n",
       "    }\n",
       "</style>\n",
       "<table border=\"1\" class=\"dataframe\">\n",
       "  <thead>\n",
       "    <tr style=\"text-align: right;\">\n",
       "      <th></th>\n",
       "      <th>id_ubigeo</th>\n",
       "      <th>ubigeo_reniec</th>\n",
       "      <th>ubigeo_inei</th>\n",
       "      <th>departamento_inei</th>\n",
       "      <th>departamento</th>\n",
       "      <th>provincia_inei</th>\n",
       "      <th>provincia</th>\n",
       "      <th>distrito</th>\n",
       "      <th>region</th>\n",
       "      <th>macroregion_inei</th>\n",
       "      <th>macroregion_minsa</th>\n",
       "      <th>iso_3166_2</th>\n",
       "      <th>fips</th>\n",
       "      <th>superficie</th>\n",
       "      <th>altitud</th>\n",
       "      <th>latitud</th>\n",
       "      <th>longitud</th>\n",
       "      <th>Frontera</th>\n",
       "    </tr>\n",
       "  </thead>\n",
       "  <tbody>\n",
       "    <tr>\n",
       "      <th>0</th>\n",
       "      <td>1</td>\n",
       "      <td>10101.0</td>\n",
       "      <td>010101</td>\n",
       "      <td>01</td>\n",
       "      <td>AMAZONAS</td>\n",
       "      <td>0101</td>\n",
       "      <td>CHACHAPOYAS</td>\n",
       "      <td>CHACHAPOYAS</td>\n",
       "      <td>AMAZONAS</td>\n",
       "      <td>ORIENTE</td>\n",
       "      <td>MACROREGION ORIENTE</td>\n",
       "      <td>PE-AMA</td>\n",
       "      <td>1</td>\n",
       "      <td>154.0</td>\n",
       "      <td>2338.0</td>\n",
       "      <td>-6.2294</td>\n",
       "      <td>-77.8728</td>\n",
       "      <td>NO</td>\n",
       "    </tr>\n",
       "    <tr>\n",
       "      <th>1</th>\n",
       "      <td>2</td>\n",
       "      <td>10102.0</td>\n",
       "      <td>010102</td>\n",
       "      <td>01</td>\n",
       "      <td>AMAZONAS</td>\n",
       "      <td>0101</td>\n",
       "      <td>CHACHAPOYAS</td>\n",
       "      <td>ASUNCION</td>\n",
       "      <td>AMAZONAS</td>\n",
       "      <td>ORIENTE</td>\n",
       "      <td>MACROREGION ORIENTE</td>\n",
       "      <td>PE-AMA</td>\n",
       "      <td>1</td>\n",
       "      <td>26.0</td>\n",
       "      <td>2823.0</td>\n",
       "      <td>-6.0325</td>\n",
       "      <td>-77.7108</td>\n",
       "      <td>NO</td>\n",
       "    </tr>\n",
       "    <tr>\n",
       "      <th>2</th>\n",
       "      <td>3</td>\n",
       "      <td>10103.0</td>\n",
       "      <td>010103</td>\n",
       "      <td>01</td>\n",
       "      <td>AMAZONAS</td>\n",
       "      <td>0101</td>\n",
       "      <td>CHACHAPOYAS</td>\n",
       "      <td>BALSAS</td>\n",
       "      <td>AMAZONAS</td>\n",
       "      <td>ORIENTE</td>\n",
       "      <td>MACROREGION ORIENTE</td>\n",
       "      <td>PE-AMA</td>\n",
       "      <td>1</td>\n",
       "      <td>357.0</td>\n",
       "      <td>859.0</td>\n",
       "      <td>-6.8358</td>\n",
       "      <td>-78.0197</td>\n",
       "      <td>NO</td>\n",
       "    </tr>\n",
       "    <tr>\n",
       "      <th>3</th>\n",
       "      <td>4</td>\n",
       "      <td>10104.0</td>\n",
       "      <td>010104</td>\n",
       "      <td>01</td>\n",
       "      <td>AMAZONAS</td>\n",
       "      <td>0101</td>\n",
       "      <td>CHACHAPOYAS</td>\n",
       "      <td>CHETO</td>\n",
       "      <td>AMAZONAS</td>\n",
       "      <td>ORIENTE</td>\n",
       "      <td>MACROREGION ORIENTE</td>\n",
       "      <td>PE-AMA</td>\n",
       "      <td>1</td>\n",
       "      <td>57.0</td>\n",
       "      <td>2143.0</td>\n",
       "      <td>-6.2556</td>\n",
       "      <td>-77.7008</td>\n",
       "      <td>NO</td>\n",
       "    </tr>\n",
       "    <tr>\n",
       "      <th>4</th>\n",
       "      <td>5</td>\n",
       "      <td>10105.0</td>\n",
       "      <td>010105</td>\n",
       "      <td>01</td>\n",
       "      <td>AMAZONAS</td>\n",
       "      <td>0101</td>\n",
       "      <td>CHACHAPOYAS</td>\n",
       "      <td>CHILIQUIN</td>\n",
       "      <td>AMAZONAS</td>\n",
       "      <td>ORIENTE</td>\n",
       "      <td>MACROREGION ORIENTE</td>\n",
       "      <td>PE-AMA</td>\n",
       "      <td>1</td>\n",
       "      <td>143.0</td>\n",
       "      <td>2677.0</td>\n",
       "      <td>-6.0783</td>\n",
       "      <td>-77.7375</td>\n",
       "      <td>NO</td>\n",
       "    </tr>\n",
       "    <tr>\n",
       "      <th>...</th>\n",
       "      <td>...</td>\n",
       "      <td>...</td>\n",
       "      <td>...</td>\n",
       "      <td>...</td>\n",
       "      <td>...</td>\n",
       "      <td>...</td>\n",
       "      <td>...</td>\n",
       "      <td>...</td>\n",
       "      <td>...</td>\n",
       "      <td>...</td>\n",
       "      <td>...</td>\n",
       "      <td>...</td>\n",
       "      <td>...</td>\n",
       "      <td>...</td>\n",
       "      <td>...</td>\n",
       "      <td>...</td>\n",
       "      <td>...</td>\n",
       "      <td>...</td>\n",
       "    </tr>\n",
       "    <tr>\n",
       "      <th>1888</th>\n",
       "      <td>1847</td>\n",
       "      <td>230102.0</td>\n",
       "      <td>240102</td>\n",
       "      <td>24</td>\n",
       "      <td>TUMBES</td>\n",
       "      <td>2401</td>\n",
       "      <td>TUMBES</td>\n",
       "      <td>CORRALES</td>\n",
       "      <td>TUMBES</td>\n",
       "      <td>NORTE</td>\n",
       "      <td>MACROREGION NORTE</td>\n",
       "      <td>PE-TUM</td>\n",
       "      <td>24</td>\n",
       "      <td>132.0</td>\n",
       "      <td>27.0</td>\n",
       "      <td>-3.6014</td>\n",
       "      <td>-80.4806</td>\n",
       "      <td>NO</td>\n",
       "    </tr>\n",
       "    <tr>\n",
       "      <th>1889</th>\n",
       "      <td>1848</td>\n",
       "      <td>230103.0</td>\n",
       "      <td>240103</td>\n",
       "      <td>24</td>\n",
       "      <td>TUMBES</td>\n",
       "      <td>2401</td>\n",
       "      <td>TUMBES</td>\n",
       "      <td>LA CRUZ</td>\n",
       "      <td>TUMBES</td>\n",
       "      <td>NORTE</td>\n",
       "      <td>MACROREGION NORTE</td>\n",
       "      <td>PE-TUM</td>\n",
       "      <td>24</td>\n",
       "      <td>65.0</td>\n",
       "      <td>10.0</td>\n",
       "      <td>-3.6372</td>\n",
       "      <td>-80.5900</td>\n",
       "      <td>NO</td>\n",
       "    </tr>\n",
       "    <tr>\n",
       "      <th>1890</th>\n",
       "      <td>1849</td>\n",
       "      <td>230104.0</td>\n",
       "      <td>240104</td>\n",
       "      <td>24</td>\n",
       "      <td>TUMBES</td>\n",
       "      <td>2401</td>\n",
       "      <td>TUMBES</td>\n",
       "      <td>PAMPAS DE HOSPITAL</td>\n",
       "      <td>TUMBES</td>\n",
       "      <td>NORTE</td>\n",
       "      <td>MACROREGION NORTE</td>\n",
       "      <td>PE-TUM</td>\n",
       "      <td>24</td>\n",
       "      <td>728.0</td>\n",
       "      <td>28.0</td>\n",
       "      <td>-3.6933</td>\n",
       "      <td>-80.4392</td>\n",
       "      <td>SI</td>\n",
       "    </tr>\n",
       "    <tr>\n",
       "      <th>1891</th>\n",
       "      <td>1850</td>\n",
       "      <td>230105.0</td>\n",
       "      <td>240105</td>\n",
       "      <td>24</td>\n",
       "      <td>TUMBES</td>\n",
       "      <td>2401</td>\n",
       "      <td>TUMBES</td>\n",
       "      <td>SAN JACINTO</td>\n",
       "      <td>TUMBES</td>\n",
       "      <td>NORTE</td>\n",
       "      <td>MACROREGION NORTE</td>\n",
       "      <td>PE-TUM</td>\n",
       "      <td>24</td>\n",
       "      <td>599.0</td>\n",
       "      <td>23.0</td>\n",
       "      <td>-3.6408</td>\n",
       "      <td>-80.4453</td>\n",
       "      <td>SI</td>\n",
       "    </tr>\n",
       "    <tr>\n",
       "      <th>1892</th>\n",
       "      <td>1851</td>\n",
       "      <td>230106.0</td>\n",
       "      <td>240106</td>\n",
       "      <td>24</td>\n",
       "      <td>TUMBES</td>\n",
       "      <td>2401</td>\n",
       "      <td>TUMBES</td>\n",
       "      <td>SAN JUAN DE LA VIRGEN</td>\n",
       "      <td>TUMBES</td>\n",
       "      <td>NORTE</td>\n",
       "      <td>MACROREGION NORTE</td>\n",
       "      <td>PE-TUM</td>\n",
       "      <td>24</td>\n",
       "      <td>119.0</td>\n",
       "      <td>26.0</td>\n",
       "      <td>-3.6278</td>\n",
       "      <td>-80.4336</td>\n",
       "      <td>NO</td>\n",
       "    </tr>\n",
       "  </tbody>\n",
       "</table>\n",
       "<p>1893 rows × 18 columns</p>\n",
       "</div>"
      ],
      "text/plain": [
       "      id_ubigeo  ubigeo_reniec ubigeo_inei departamento_inei departamento  \\\n",
       "0             1        10101.0      010101                01     AMAZONAS   \n",
       "1             2        10102.0      010102                01     AMAZONAS   \n",
       "2             3        10103.0      010103                01     AMAZONAS   \n",
       "3             4        10104.0      010104                01     AMAZONAS   \n",
       "4             5        10105.0      010105                01     AMAZONAS   \n",
       "...         ...            ...         ...               ...          ...   \n",
       "1888       1847       230102.0      240102                24       TUMBES   \n",
       "1889       1848       230103.0      240103                24       TUMBES   \n",
       "1890       1849       230104.0      240104                24       TUMBES   \n",
       "1891       1850       230105.0      240105                24       TUMBES   \n",
       "1892       1851       230106.0      240106                24       TUMBES   \n",
       "\n",
       "     provincia_inei    provincia               distrito    region  \\\n",
       "0              0101  CHACHAPOYAS            CHACHAPOYAS  AMAZONAS   \n",
       "1              0101  CHACHAPOYAS               ASUNCION  AMAZONAS   \n",
       "2              0101  CHACHAPOYAS                 BALSAS  AMAZONAS   \n",
       "3              0101  CHACHAPOYAS                  CHETO  AMAZONAS   \n",
       "4              0101  CHACHAPOYAS              CHILIQUIN  AMAZONAS   \n",
       "...             ...          ...                    ...       ...   \n",
       "1888           2401       TUMBES               CORRALES    TUMBES   \n",
       "1889           2401       TUMBES                LA CRUZ    TUMBES   \n",
       "1890           2401       TUMBES     PAMPAS DE HOSPITAL    TUMBES   \n",
       "1891           2401       TUMBES            SAN JACINTO    TUMBES   \n",
       "1892           2401       TUMBES  SAN JUAN DE LA VIRGEN    TUMBES   \n",
       "\n",
       "     macroregion_inei    macroregion_minsa iso_3166_2  fips  superficie  \\\n",
       "0             ORIENTE  MACROREGION ORIENTE     PE-AMA     1       154.0   \n",
       "1             ORIENTE  MACROREGION ORIENTE     PE-AMA     1        26.0   \n",
       "2             ORIENTE  MACROREGION ORIENTE     PE-AMA     1       357.0   \n",
       "3             ORIENTE  MACROREGION ORIENTE     PE-AMA     1        57.0   \n",
       "4             ORIENTE  MACROREGION ORIENTE     PE-AMA     1       143.0   \n",
       "...               ...                  ...        ...   ...         ...   \n",
       "1888            NORTE    MACROREGION NORTE     PE-TUM    24       132.0   \n",
       "1889            NORTE    MACROREGION NORTE     PE-TUM    24        65.0   \n",
       "1890            NORTE    MACROREGION NORTE     PE-TUM    24       728.0   \n",
       "1891            NORTE    MACROREGION NORTE     PE-TUM    24       599.0   \n",
       "1892            NORTE    MACROREGION NORTE     PE-TUM    24       119.0   \n",
       "\n",
       "      altitud  latitud  longitud Frontera  \n",
       "0      2338.0  -6.2294  -77.8728       NO  \n",
       "1      2823.0  -6.0325  -77.7108       NO  \n",
       "2       859.0  -6.8358  -78.0197       NO  \n",
       "3      2143.0  -6.2556  -77.7008       NO  \n",
       "4      2677.0  -6.0783  -77.7375       NO  \n",
       "...       ...      ...       ...      ...  \n",
       "1888     27.0  -3.6014  -80.4806       NO  \n",
       "1889     10.0  -3.6372  -80.5900       NO  \n",
       "1890     28.0  -3.6933  -80.4392       SI  \n",
       "1891     23.0  -3.6408  -80.4453       SI  \n",
       "1892     26.0  -3.6278  -80.4336       NO  \n",
       "\n",
       "[1893 rows x 18 columns]"
      ]
     },
     "execution_count": 4,
     "metadata": {},
     "output_type": "execute_result"
    }
   ],
   "source": [
    "dicc_ubigeo"
   ]
  },
  {
   "cell_type": "code",
   "execution_count": 6,
   "metadata": {},
   "outputs": [
    {
     "data": {
      "text/html": [
       "<div>\n",
       "<style scoped>\n",
       "    .dataframe tbody tr th:only-of-type {\n",
       "        vertical-align: middle;\n",
       "    }\n",
       "\n",
       "    .dataframe tbody tr th {\n",
       "        vertical-align: top;\n",
       "    }\n",
       "\n",
       "    .dataframe thead th {\n",
       "        text-align: right;\n",
       "    }\n",
       "</style>\n",
       "<table border=\"1\" class=\"dataframe\">\n",
       "  <thead>\n",
       "    <tr style=\"text-align: right;\">\n",
       "      <th></th>\n",
       "      <th>id_ubigeo</th>\n",
       "      <th>ubigeo_reniec</th>\n",
       "      <th>ubigeo_inei</th>\n",
       "      <th>departamento_inei</th>\n",
       "      <th>departamento</th>\n",
       "      <th>provincia_inei</th>\n",
       "      <th>provincia</th>\n",
       "      <th>distrito</th>\n",
       "      <th>region</th>\n",
       "      <th>macroregion_inei</th>\n",
       "      <th>macroregion_minsa</th>\n",
       "      <th>iso_3166_2</th>\n",
       "      <th>fips</th>\n",
       "      <th>superficie</th>\n",
       "      <th>altitud</th>\n",
       "      <th>latitud</th>\n",
       "      <th>longitud</th>\n",
       "      <th>Frontera</th>\n",
       "    </tr>\n",
       "  </thead>\n",
       "  <tbody>\n",
       "    <tr>\n",
       "      <th>0</th>\n",
       "      <td>1</td>\n",
       "      <td>10101.0</td>\n",
       "      <td>010101</td>\n",
       "      <td>01</td>\n",
       "      <td>AMAZONAS</td>\n",
       "      <td>0101</td>\n",
       "      <td>CHACHAPOYAS</td>\n",
       "      <td>CHACHAPOYAS</td>\n",
       "      <td>AMAZONAS</td>\n",
       "      <td>ORIENTE</td>\n",
       "      <td>MACROREGION ORIENTE</td>\n",
       "      <td>PE-AMA</td>\n",
       "      <td>1</td>\n",
       "      <td>154.0</td>\n",
       "      <td>2338.0</td>\n",
       "      <td>-6.2294</td>\n",
       "      <td>-77.8728</td>\n",
       "      <td>NO</td>\n",
       "    </tr>\n",
       "    <tr>\n",
       "      <th>1</th>\n",
       "      <td>2</td>\n",
       "      <td>10102.0</td>\n",
       "      <td>010102</td>\n",
       "      <td>01</td>\n",
       "      <td>AMAZONAS</td>\n",
       "      <td>0101</td>\n",
       "      <td>CHACHAPOYAS</td>\n",
       "      <td>ASUNCION</td>\n",
       "      <td>AMAZONAS</td>\n",
       "      <td>ORIENTE</td>\n",
       "      <td>MACROREGION ORIENTE</td>\n",
       "      <td>PE-AMA</td>\n",
       "      <td>1</td>\n",
       "      <td>26.0</td>\n",
       "      <td>2823.0</td>\n",
       "      <td>-6.0325</td>\n",
       "      <td>-77.7108</td>\n",
       "      <td>NO</td>\n",
       "    </tr>\n",
       "    <tr>\n",
       "      <th>2</th>\n",
       "      <td>3</td>\n",
       "      <td>10103.0</td>\n",
       "      <td>010103</td>\n",
       "      <td>01</td>\n",
       "      <td>AMAZONAS</td>\n",
       "      <td>0101</td>\n",
       "      <td>CHACHAPOYAS</td>\n",
       "      <td>BALSAS</td>\n",
       "      <td>AMAZONAS</td>\n",
       "      <td>ORIENTE</td>\n",
       "      <td>MACROREGION ORIENTE</td>\n",
       "      <td>PE-AMA</td>\n",
       "      <td>1</td>\n",
       "      <td>357.0</td>\n",
       "      <td>859.0</td>\n",
       "      <td>-6.8358</td>\n",
       "      <td>-78.0197</td>\n",
       "      <td>NO</td>\n",
       "    </tr>\n",
       "    <tr>\n",
       "      <th>3</th>\n",
       "      <td>4</td>\n",
       "      <td>10104.0</td>\n",
       "      <td>010104</td>\n",
       "      <td>01</td>\n",
       "      <td>AMAZONAS</td>\n",
       "      <td>0101</td>\n",
       "      <td>CHACHAPOYAS</td>\n",
       "      <td>CHETO</td>\n",
       "      <td>AMAZONAS</td>\n",
       "      <td>ORIENTE</td>\n",
       "      <td>MACROREGION ORIENTE</td>\n",
       "      <td>PE-AMA</td>\n",
       "      <td>1</td>\n",
       "      <td>57.0</td>\n",
       "      <td>2143.0</td>\n",
       "      <td>-6.2556</td>\n",
       "      <td>-77.7008</td>\n",
       "      <td>NO</td>\n",
       "    </tr>\n",
       "    <tr>\n",
       "      <th>4</th>\n",
       "      <td>5</td>\n",
       "      <td>10105.0</td>\n",
       "      <td>010105</td>\n",
       "      <td>01</td>\n",
       "      <td>AMAZONAS</td>\n",
       "      <td>0101</td>\n",
       "      <td>CHACHAPOYAS</td>\n",
       "      <td>CHILIQUIN</td>\n",
       "      <td>AMAZONAS</td>\n",
       "      <td>ORIENTE</td>\n",
       "      <td>MACROREGION ORIENTE</td>\n",
       "      <td>PE-AMA</td>\n",
       "      <td>1</td>\n",
       "      <td>143.0</td>\n",
       "      <td>2677.0</td>\n",
       "      <td>-6.0783</td>\n",
       "      <td>-77.7375</td>\n",
       "      <td>NO</td>\n",
       "    </tr>\n",
       "  </tbody>\n",
       "</table>\n",
       "</div>"
      ],
      "text/plain": [
       "   id_ubigeo  ubigeo_reniec ubigeo_inei departamento_inei departamento  \\\n",
       "0          1        10101.0      010101                01     AMAZONAS   \n",
       "1          2        10102.0      010102                01     AMAZONAS   \n",
       "2          3        10103.0      010103                01     AMAZONAS   \n",
       "3          4        10104.0      010104                01     AMAZONAS   \n",
       "4          5        10105.0      010105                01     AMAZONAS   \n",
       "\n",
       "  provincia_inei    provincia     distrito    region macroregion_inei  \\\n",
       "0           0101  CHACHAPOYAS  CHACHAPOYAS  AMAZONAS          ORIENTE   \n",
       "1           0101  CHACHAPOYAS     ASUNCION  AMAZONAS          ORIENTE   \n",
       "2           0101  CHACHAPOYAS       BALSAS  AMAZONAS          ORIENTE   \n",
       "3           0101  CHACHAPOYAS        CHETO  AMAZONAS          ORIENTE   \n",
       "4           0101  CHACHAPOYAS    CHILIQUIN  AMAZONAS          ORIENTE   \n",
       "\n",
       "     macroregion_minsa iso_3166_2  fips  superficie  altitud  latitud  \\\n",
       "0  MACROREGION ORIENTE     PE-AMA     1       154.0   2338.0  -6.2294   \n",
       "1  MACROREGION ORIENTE     PE-AMA     1        26.0   2823.0  -6.0325   \n",
       "2  MACROREGION ORIENTE     PE-AMA     1       357.0    859.0  -6.8358   \n",
       "3  MACROREGION ORIENTE     PE-AMA     1        57.0   2143.0  -6.2556   \n",
       "4  MACROREGION ORIENTE     PE-AMA     1       143.0   2677.0  -6.0783   \n",
       "\n",
       "   longitud Frontera  \n",
       "0  -77.8728       NO  \n",
       "1  -77.7108       NO  \n",
       "2  -78.0197       NO  \n",
       "3  -77.7008       NO  \n",
       "4  -77.7375       NO  "
      ]
     },
     "execution_count": 6,
     "metadata": {},
     "output_type": "execute_result"
    }
   ],
   "source": [
    "dicc_ubigeo.head()"
   ]
  },
  {
   "cell_type": "code",
   "execution_count": 7,
   "metadata": {},
   "outputs": [
    {
     "data": {
      "text/plain": [
       "id_ubigeo              int64\n",
       "ubigeo_reniec        float64\n",
       "ubigeo_inei           object\n",
       "departamento_inei     object\n",
       "departamento          object\n",
       "provincia_inei        object\n",
       "provincia             object\n",
       "distrito              object\n",
       "region                object\n",
       "macroregion_inei      object\n",
       "macroregion_minsa     object\n",
       "iso_3166_2            object\n",
       "fips                   int64\n",
       "superficie           float64\n",
       "altitud              float64\n",
       "latitud              float64\n",
       "longitud             float64\n",
       "Frontera              object\n",
       "dtype: object"
      ]
     },
     "execution_count": 7,
     "metadata": {},
     "output_type": "execute_result"
    }
   ],
   "source": [
    "dicc_ubigeo.dtypes"
   ]
  },
  {
   "cell_type": "markdown",
   "metadata": {},
   "source": [
    "##### TRANSFORMACION DE DATOS MASIVOS"
   ]
  },
  {
   "cell_type": "markdown",
   "metadata": {},
   "source": [
    "##### FILTRO Y LIMPIEZA DE DATOS DEPARTAMENTO"
   ]
  },
  {
   "cell_type": "markdown",
   "metadata": {},
   "source": [
    "###### VERIFICACION DE CAMPOS NULOS"
   ]
  },
  {
   "cell_type": "code",
   "execution_count": 5,
   "metadata": {},
   "outputs": [
    {
     "data": {
      "text/plain": [
       "id_ubigeo             0\n",
       "ubigeo_reniec         1\n",
       "ubigeo_inei           0\n",
       "departamento_inei     0\n",
       "departamento          0\n",
       "provincia_inei        0\n",
       "provincia             0\n",
       "distrito              0\n",
       "region                0\n",
       "macroregion_inei      0\n",
       "macroregion_minsa     0\n",
       "iso_3166_2            0\n",
       "fips                  0\n",
       "superficie           23\n",
       "altitud              19\n",
       "latitud              19\n",
       "longitud             19\n",
       "Frontera              0\n",
       "dtype: int64"
      ]
     },
     "execution_count": 5,
     "metadata": {},
     "output_type": "execute_result"
    }
   ],
   "source": [
    "dicc_ubigeo.isna().sum()"
   ]
  },
  {
   "cell_type": "markdown",
   "metadata": {},
   "source": [
    "###### VERIFICACION DE CAMPOS DUPLICADOS"
   ]
  },
  {
   "cell_type": "code",
   "execution_count": 33,
   "metadata": {},
   "outputs": [
    {
     "name": "stdout",
     "output_type": "stream",
     "text": [
      "El numero de registros duplicados por departamento asciende a: 1868\n"
     ]
    }
   ],
   "source": [
    "departamentos_duplicados = dicc_ubigeo.duplicated(subset=[\"departamento_inei\", \"departamento\"]).sum()\n",
    "print(f\"El numero de registros duplicados por departamento asciende a: {departamentos_duplicados}\")"
   ]
  },
  {
   "cell_type": "markdown",
   "metadata": {},
   "source": [
    "###### ELIMINACION DE REGISTROS DUPLICADOS"
   ]
  },
  {
   "cell_type": "code",
   "execution_count": 7,
   "metadata": {},
   "outputs": [],
   "source": [
    "dicc_departamento = dicc_ubigeo[[\"departamento_inei\", \"departamento\"]].drop_duplicates()"
   ]
  },
  {
   "cell_type": "markdown",
   "metadata": {},
   "source": [
    "###### ORDENACION ASCENDENTE DEL DATAFRAME"
   ]
  },
  {
   "cell_type": "code",
   "execution_count": 8,
   "metadata": {},
   "outputs": [],
   "source": [
    "dicc_departamento = dicc_departamento.sort_values(by=\"departamento_inei\", ascending=True)"
   ]
  },
  {
   "cell_type": "markdown",
   "metadata": {},
   "source": [
    "###### RESETEO DEL INDEX DEL DATAFRAME"
   ]
  },
  {
   "cell_type": "code",
   "execution_count": 9,
   "metadata": {},
   "outputs": [],
   "source": [
    "dicc_departamento = dicc_departamento.reset_index(drop=True)"
   ]
  },
  {
   "cell_type": "markdown",
   "metadata": {},
   "source": [
    "###### DATAFRAME DICC_DEPARTAMENTO LIMPIO Y FORMATEADO"
   ]
  },
  {
   "cell_type": "code",
   "execution_count": 10,
   "metadata": {},
   "outputs": [
    {
     "data": {
      "text/html": [
       "<div>\n",
       "<style scoped>\n",
       "    .dataframe tbody tr th:only-of-type {\n",
       "        vertical-align: middle;\n",
       "    }\n",
       "\n",
       "    .dataframe tbody tr th {\n",
       "        vertical-align: top;\n",
       "    }\n",
       "\n",
       "    .dataframe thead th {\n",
       "        text-align: right;\n",
       "    }\n",
       "</style>\n",
       "<table border=\"1\" class=\"dataframe\">\n",
       "  <thead>\n",
       "    <tr style=\"text-align: right;\">\n",
       "      <th></th>\n",
       "      <th>departamento_inei</th>\n",
       "      <th>departamento</th>\n",
       "    </tr>\n",
       "  </thead>\n",
       "  <tbody>\n",
       "    <tr>\n",
       "      <th>0</th>\n",
       "      <td>01</td>\n",
       "      <td>AMAZONAS</td>\n",
       "    </tr>\n",
       "    <tr>\n",
       "      <th>1</th>\n",
       "      <td>02</td>\n",
       "      <td>ANCASH</td>\n",
       "    </tr>\n",
       "    <tr>\n",
       "      <th>2</th>\n",
       "      <td>03</td>\n",
       "      <td>APURIMAC</td>\n",
       "    </tr>\n",
       "    <tr>\n",
       "      <th>3</th>\n",
       "      <td>04</td>\n",
       "      <td>AREQUIPA</td>\n",
       "    </tr>\n",
       "    <tr>\n",
       "      <th>4</th>\n",
       "      <td>05</td>\n",
       "      <td>AYACUCHO</td>\n",
       "    </tr>\n",
       "    <tr>\n",
       "      <th>5</th>\n",
       "      <td>06</td>\n",
       "      <td>CAJAMARCA</td>\n",
       "    </tr>\n",
       "    <tr>\n",
       "      <th>6</th>\n",
       "      <td>07</td>\n",
       "      <td>CALLAO</td>\n",
       "    </tr>\n",
       "    <tr>\n",
       "      <th>7</th>\n",
       "      <td>08</td>\n",
       "      <td>CUSCO</td>\n",
       "    </tr>\n",
       "    <tr>\n",
       "      <th>8</th>\n",
       "      <td>09</td>\n",
       "      <td>HUANCAVELICA</td>\n",
       "    </tr>\n",
       "    <tr>\n",
       "      <th>9</th>\n",
       "      <td>10</td>\n",
       "      <td>HUANUCO</td>\n",
       "    </tr>\n",
       "    <tr>\n",
       "      <th>10</th>\n",
       "      <td>11</td>\n",
       "      <td>ICA</td>\n",
       "    </tr>\n",
       "    <tr>\n",
       "      <th>11</th>\n",
       "      <td>12</td>\n",
       "      <td>JUNIN</td>\n",
       "    </tr>\n",
       "    <tr>\n",
       "      <th>12</th>\n",
       "      <td>13</td>\n",
       "      <td>LA LIBERTAD</td>\n",
       "    </tr>\n",
       "    <tr>\n",
       "      <th>13</th>\n",
       "      <td>14</td>\n",
       "      <td>LAMBAYEQUE</td>\n",
       "    </tr>\n",
       "    <tr>\n",
       "      <th>14</th>\n",
       "      <td>15</td>\n",
       "      <td>LIMA</td>\n",
       "    </tr>\n",
       "    <tr>\n",
       "      <th>15</th>\n",
       "      <td>16</td>\n",
       "      <td>LORETO</td>\n",
       "    </tr>\n",
       "    <tr>\n",
       "      <th>16</th>\n",
       "      <td>17</td>\n",
       "      <td>MADRE DE DIOS</td>\n",
       "    </tr>\n",
       "    <tr>\n",
       "      <th>17</th>\n",
       "      <td>18</td>\n",
       "      <td>MOQUEGUA</td>\n",
       "    </tr>\n",
       "    <tr>\n",
       "      <th>18</th>\n",
       "      <td>19</td>\n",
       "      <td>PASCO</td>\n",
       "    </tr>\n",
       "    <tr>\n",
       "      <th>19</th>\n",
       "      <td>20</td>\n",
       "      <td>PIURA</td>\n",
       "    </tr>\n",
       "    <tr>\n",
       "      <th>20</th>\n",
       "      <td>21</td>\n",
       "      <td>PUNO</td>\n",
       "    </tr>\n",
       "    <tr>\n",
       "      <th>21</th>\n",
       "      <td>22</td>\n",
       "      <td>SAN MARTIN</td>\n",
       "    </tr>\n",
       "    <tr>\n",
       "      <th>22</th>\n",
       "      <td>23</td>\n",
       "      <td>TACNA</td>\n",
       "    </tr>\n",
       "    <tr>\n",
       "      <th>23</th>\n",
       "      <td>24</td>\n",
       "      <td>TUMBES</td>\n",
       "    </tr>\n",
       "    <tr>\n",
       "      <th>24</th>\n",
       "      <td>25</td>\n",
       "      <td>UCAYALI</td>\n",
       "    </tr>\n",
       "  </tbody>\n",
       "</table>\n",
       "</div>"
      ],
      "text/plain": [
       "   departamento_inei   departamento\n",
       "0                 01       AMAZONAS\n",
       "1                 02         ANCASH\n",
       "2                 03       APURIMAC\n",
       "3                 04       AREQUIPA\n",
       "4                 05       AYACUCHO\n",
       "5                 06      CAJAMARCA\n",
       "6                 07         CALLAO\n",
       "7                 08          CUSCO\n",
       "8                 09   HUANCAVELICA\n",
       "9                 10        HUANUCO\n",
       "10                11            ICA\n",
       "11                12          JUNIN\n",
       "12                13    LA LIBERTAD\n",
       "13                14     LAMBAYEQUE\n",
       "14                15           LIMA\n",
       "15                16         LORETO\n",
       "16                17  MADRE DE DIOS\n",
       "17                18       MOQUEGUA\n",
       "18                19          PASCO\n",
       "19                20          PIURA\n",
       "20                21           PUNO\n",
       "21                22     SAN MARTIN\n",
       "22                23          TACNA\n",
       "23                24         TUMBES\n",
       "24                25        UCAYALI"
      ]
     },
     "execution_count": 10,
     "metadata": {},
     "output_type": "execute_result"
    }
   ],
   "source": [
    "dicc_departamento"
   ]
  },
  {
   "cell_type": "markdown",
   "metadata": {},
   "source": [
    "##### DATAFRAME DF_DEPARTAMENTO LIMPIO"
   ]
  },
  {
   "cell_type": "markdown",
   "metadata": {},
   "source": [
    "###### CREACION DEL DATAFRAME DF_DEPARTAMENTO A PARTIR DEL DATAFRAME DICC_DEPARTAMENTO"
   ]
  },
  {
   "cell_type": "code",
   "execution_count": 13,
   "metadata": {},
   "outputs": [],
   "source": [
    "df_departamento = pd.DataFrame(\n",
    "    {\n",
    "        \"COD_DEPARTAMENTO\": dicc_departamento[\"departamento_inei\"],\n",
    "        \"NOM_DEPARTAMENTO\": dicc_departamento[\"departamento\"]\n",
    "    }\n",
    ")"
   ]
  },
  {
   "cell_type": "code",
   "execution_count": 14,
   "metadata": {},
   "outputs": [
    {
     "data": {
      "text/html": [
       "<div>\n",
       "<style scoped>\n",
       "    .dataframe tbody tr th:only-of-type {\n",
       "        vertical-align: middle;\n",
       "    }\n",
       "\n",
       "    .dataframe tbody tr th {\n",
       "        vertical-align: top;\n",
       "    }\n",
       "\n",
       "    .dataframe thead th {\n",
       "        text-align: right;\n",
       "    }\n",
       "</style>\n",
       "<table border=\"1\" class=\"dataframe\">\n",
       "  <thead>\n",
       "    <tr style=\"text-align: right;\">\n",
       "      <th></th>\n",
       "      <th>COD_DEPARTAMENTO</th>\n",
       "      <th>NOM_DEPARTAMENTO</th>\n",
       "    </tr>\n",
       "  </thead>\n",
       "  <tbody>\n",
       "    <tr>\n",
       "      <th>0</th>\n",
       "      <td>01</td>\n",
       "      <td>AMAZONAS</td>\n",
       "    </tr>\n",
       "    <tr>\n",
       "      <th>1</th>\n",
       "      <td>02</td>\n",
       "      <td>ANCASH</td>\n",
       "    </tr>\n",
       "    <tr>\n",
       "      <th>2</th>\n",
       "      <td>03</td>\n",
       "      <td>APURIMAC</td>\n",
       "    </tr>\n",
       "    <tr>\n",
       "      <th>3</th>\n",
       "      <td>04</td>\n",
       "      <td>AREQUIPA</td>\n",
       "    </tr>\n",
       "    <tr>\n",
       "      <th>4</th>\n",
       "      <td>05</td>\n",
       "      <td>AYACUCHO</td>\n",
       "    </tr>\n",
       "    <tr>\n",
       "      <th>5</th>\n",
       "      <td>06</td>\n",
       "      <td>CAJAMARCA</td>\n",
       "    </tr>\n",
       "    <tr>\n",
       "      <th>6</th>\n",
       "      <td>07</td>\n",
       "      <td>CALLAO</td>\n",
       "    </tr>\n",
       "    <tr>\n",
       "      <th>7</th>\n",
       "      <td>08</td>\n",
       "      <td>CUSCO</td>\n",
       "    </tr>\n",
       "    <tr>\n",
       "      <th>8</th>\n",
       "      <td>09</td>\n",
       "      <td>HUANCAVELICA</td>\n",
       "    </tr>\n",
       "    <tr>\n",
       "      <th>9</th>\n",
       "      <td>10</td>\n",
       "      <td>HUANUCO</td>\n",
       "    </tr>\n",
       "    <tr>\n",
       "      <th>10</th>\n",
       "      <td>11</td>\n",
       "      <td>ICA</td>\n",
       "    </tr>\n",
       "    <tr>\n",
       "      <th>11</th>\n",
       "      <td>12</td>\n",
       "      <td>JUNIN</td>\n",
       "    </tr>\n",
       "    <tr>\n",
       "      <th>12</th>\n",
       "      <td>13</td>\n",
       "      <td>LA LIBERTAD</td>\n",
       "    </tr>\n",
       "    <tr>\n",
       "      <th>13</th>\n",
       "      <td>14</td>\n",
       "      <td>LAMBAYEQUE</td>\n",
       "    </tr>\n",
       "    <tr>\n",
       "      <th>14</th>\n",
       "      <td>15</td>\n",
       "      <td>LIMA</td>\n",
       "    </tr>\n",
       "    <tr>\n",
       "      <th>15</th>\n",
       "      <td>16</td>\n",
       "      <td>LORETO</td>\n",
       "    </tr>\n",
       "    <tr>\n",
       "      <th>16</th>\n",
       "      <td>17</td>\n",
       "      <td>MADRE DE DIOS</td>\n",
       "    </tr>\n",
       "    <tr>\n",
       "      <th>17</th>\n",
       "      <td>18</td>\n",
       "      <td>MOQUEGUA</td>\n",
       "    </tr>\n",
       "    <tr>\n",
       "      <th>18</th>\n",
       "      <td>19</td>\n",
       "      <td>PASCO</td>\n",
       "    </tr>\n",
       "    <tr>\n",
       "      <th>19</th>\n",
       "      <td>20</td>\n",
       "      <td>PIURA</td>\n",
       "    </tr>\n",
       "    <tr>\n",
       "      <th>20</th>\n",
       "      <td>21</td>\n",
       "      <td>PUNO</td>\n",
       "    </tr>\n",
       "    <tr>\n",
       "      <th>21</th>\n",
       "      <td>22</td>\n",
       "      <td>SAN MARTIN</td>\n",
       "    </tr>\n",
       "    <tr>\n",
       "      <th>22</th>\n",
       "      <td>23</td>\n",
       "      <td>TACNA</td>\n",
       "    </tr>\n",
       "    <tr>\n",
       "      <th>23</th>\n",
       "      <td>24</td>\n",
       "      <td>TUMBES</td>\n",
       "    </tr>\n",
       "    <tr>\n",
       "      <th>24</th>\n",
       "      <td>25</td>\n",
       "      <td>UCAYALI</td>\n",
       "    </tr>\n",
       "  </tbody>\n",
       "</table>\n",
       "</div>"
      ],
      "text/plain": [
       "   COD_DEPARTAMENTO NOM_DEPARTAMENTO\n",
       "0                01         AMAZONAS\n",
       "1                02           ANCASH\n",
       "2                03         APURIMAC\n",
       "3                04         AREQUIPA\n",
       "4                05         AYACUCHO\n",
       "5                06        CAJAMARCA\n",
       "6                07           CALLAO\n",
       "7                08            CUSCO\n",
       "8                09     HUANCAVELICA\n",
       "9                10          HUANUCO\n",
       "10               11              ICA\n",
       "11               12            JUNIN\n",
       "12               13      LA LIBERTAD\n",
       "13               14       LAMBAYEQUE\n",
       "14               15             LIMA\n",
       "15               16           LORETO\n",
       "16               17    MADRE DE DIOS\n",
       "17               18         MOQUEGUA\n",
       "18               19            PASCO\n",
       "19               20            PIURA\n",
       "20               21             PUNO\n",
       "21               22       SAN MARTIN\n",
       "22               23            TACNA\n",
       "23               24           TUMBES\n",
       "24               25          UCAYALI"
      ]
     },
     "execution_count": 14,
     "metadata": {},
     "output_type": "execute_result"
    }
   ],
   "source": [
    "df_departamento"
   ]
  },
  {
   "cell_type": "markdown",
   "metadata": {},
   "source": [
    "##### FILTRO Y LIMPIEZA DE DATOS PROVINCIA"
   ]
  },
  {
   "cell_type": "markdown",
   "metadata": {},
   "source": [
    "###### VERIFICACION DE TIPOS DE CAMPOS"
   ]
  },
  {
   "cell_type": "code",
   "execution_count": 14,
   "metadata": {},
   "outputs": [
    {
     "data": {
      "text/plain": [
       "id_ubigeo              int64\n",
       "ubigeo_reniec        float64\n",
       "ubigeo_inei           object\n",
       "departamento_inei     object\n",
       "departamento          object\n",
       "provincia_inei        object\n",
       "provincia             object\n",
       "distrito              object\n",
       "region                object\n",
       "macroregion_inei      object\n",
       "macroregion_minsa     object\n",
       "iso_3166_2            object\n",
       "fips                   int64\n",
       "superficie           float64\n",
       "altitud              float64\n",
       "latitud              float64\n",
       "longitud             float64\n",
       "Frontera              object\n",
       "dtype: object"
      ]
     },
     "execution_count": 14,
     "metadata": {},
     "output_type": "execute_result"
    }
   ],
   "source": [
    "dicc_ubigeo.dtypes"
   ]
  },
  {
   "cell_type": "markdown",
   "metadata": {},
   "source": [
    "###### VERIFICACION DE CAMPOS DUPLICADOS"
   ]
  },
  {
   "cell_type": "code",
   "execution_count": 35,
   "metadata": {},
   "outputs": [
    {
     "name": "stdout",
     "output_type": "stream",
     "text": [
      "El numero de registros duplicados por provincia asciende a: 1697\n"
     ]
    }
   ],
   "source": [
    "provincias_duplicadas = dicc_ubigeo.duplicated(subset=[\"provincia_inei\", \"provincia\", \"departamento_inei\"]).sum()\n",
    "print(f\"El numero de registros duplicados por provincia asciende a: {provincias_duplicadas}\")"
   ]
  },
  {
   "cell_type": "markdown",
   "metadata": {},
   "source": [
    "###### ELIMINACION DE REGISTROS DUPLICADOS"
   ]
  },
  {
   "cell_type": "code",
   "execution_count": 16,
   "metadata": {},
   "outputs": [],
   "source": [
    "dicc_provincia =  dicc_ubigeo[[\"provincia_inei\", \"provincia\", \"departamento_inei\"]].drop_duplicates()"
   ]
  },
  {
   "cell_type": "markdown",
   "metadata": {},
   "source": [
    "###### ORDENACION ASCENDENTE DEL DATAFRAME"
   ]
  },
  {
   "cell_type": "code",
   "execution_count": 17,
   "metadata": {},
   "outputs": [],
   "source": [
    "dicc_provincia = dicc_provincia.sort_values(by=\"provincia_inei\", ascending=True)"
   ]
  },
  {
   "cell_type": "markdown",
   "metadata": {},
   "source": [
    "###### RESETEO DEL INDEX DEL DATAFRAME"
   ]
  },
  {
   "cell_type": "code",
   "execution_count": 18,
   "metadata": {},
   "outputs": [],
   "source": [
    "dicc_provincia = dicc_provincia.reset_index(drop=True)"
   ]
  },
  {
   "cell_type": "markdown",
   "metadata": {},
   "source": [
    "###### DATAFRAME DICC_PROVINCIA LIMPIO Y FORMATEADO"
   ]
  },
  {
   "cell_type": "code",
   "execution_count": 19,
   "metadata": {},
   "outputs": [
    {
     "data": {
      "text/html": [
       "<div>\n",
       "<style scoped>\n",
       "    .dataframe tbody tr th:only-of-type {\n",
       "        vertical-align: middle;\n",
       "    }\n",
       "\n",
       "    .dataframe tbody tr th {\n",
       "        vertical-align: top;\n",
       "    }\n",
       "\n",
       "    .dataframe thead th {\n",
       "        text-align: right;\n",
       "    }\n",
       "</style>\n",
       "<table border=\"1\" class=\"dataframe\">\n",
       "  <thead>\n",
       "    <tr style=\"text-align: right;\">\n",
       "      <th></th>\n",
       "      <th>provincia_inei</th>\n",
       "      <th>provincia</th>\n",
       "      <th>departamento_inei</th>\n",
       "    </tr>\n",
       "  </thead>\n",
       "  <tbody>\n",
       "    <tr>\n",
       "      <th>0</th>\n",
       "      <td>0101</td>\n",
       "      <td>CHACHAPOYAS</td>\n",
       "      <td>01</td>\n",
       "    </tr>\n",
       "    <tr>\n",
       "      <th>1</th>\n",
       "      <td>0102</td>\n",
       "      <td>BAGUA</td>\n",
       "      <td>01</td>\n",
       "    </tr>\n",
       "    <tr>\n",
       "      <th>2</th>\n",
       "      <td>0103</td>\n",
       "      <td>BONGARA</td>\n",
       "      <td>01</td>\n",
       "    </tr>\n",
       "    <tr>\n",
       "      <th>3</th>\n",
       "      <td>0104</td>\n",
       "      <td>CONDORCANQUI</td>\n",
       "      <td>01</td>\n",
       "    </tr>\n",
       "    <tr>\n",
       "      <th>4</th>\n",
       "      <td>0105</td>\n",
       "      <td>LUYA</td>\n",
       "      <td>01</td>\n",
       "    </tr>\n",
       "    <tr>\n",
       "      <th>...</th>\n",
       "      <td>...</td>\n",
       "      <td>...</td>\n",
       "      <td>...</td>\n",
       "    </tr>\n",
       "    <tr>\n",
       "      <th>191</th>\n",
       "      <td>2403</td>\n",
       "      <td>ZARUMILLA</td>\n",
       "      <td>24</td>\n",
       "    </tr>\n",
       "    <tr>\n",
       "      <th>192</th>\n",
       "      <td>2501</td>\n",
       "      <td>CORONEL PORTILLO</td>\n",
       "      <td>25</td>\n",
       "    </tr>\n",
       "    <tr>\n",
       "      <th>193</th>\n",
       "      <td>2502</td>\n",
       "      <td>ATALAYA</td>\n",
       "      <td>25</td>\n",
       "    </tr>\n",
       "    <tr>\n",
       "      <th>194</th>\n",
       "      <td>2503</td>\n",
       "      <td>PADRE ABAD</td>\n",
       "      <td>25</td>\n",
       "    </tr>\n",
       "    <tr>\n",
       "      <th>195</th>\n",
       "      <td>2504</td>\n",
       "      <td>PURUS</td>\n",
       "      <td>25</td>\n",
       "    </tr>\n",
       "  </tbody>\n",
       "</table>\n",
       "<p>196 rows × 3 columns</p>\n",
       "</div>"
      ],
      "text/plain": [
       "    provincia_inei         provincia departamento_inei\n",
       "0             0101       CHACHAPOYAS                01\n",
       "1             0102             BAGUA                01\n",
       "2             0103           BONGARA                01\n",
       "3             0104      CONDORCANQUI                01\n",
       "4             0105              LUYA                01\n",
       "..             ...               ...               ...\n",
       "191           2403         ZARUMILLA                24\n",
       "192           2501  CORONEL PORTILLO                25\n",
       "193           2502           ATALAYA                25\n",
       "194           2503        PADRE ABAD                25\n",
       "195           2504             PURUS                25\n",
       "\n",
       "[196 rows x 3 columns]"
      ]
     },
     "execution_count": 19,
     "metadata": {},
     "output_type": "execute_result"
    }
   ],
   "source": [
    "dicc_provincia"
   ]
  },
  {
   "cell_type": "markdown",
   "metadata": {},
   "source": [
    "##### DATAFRAME DF_PROVINCIA LIMPIO"
   ]
  },
  {
   "cell_type": "markdown",
   "metadata": {},
   "source": [
    "###### CREACION DEL DATAFRAME DF_PROVINCIA A PARTIR DEL DATAFRAME DICC_PROVINCIA"
   ]
  },
  {
   "cell_type": "code",
   "execution_count": 20,
   "metadata": {},
   "outputs": [],
   "source": [
    "df_provincia = pd.DataFrame(\n",
    "    {\n",
    "        \"COD_PROVINCIA\": dicc_provincia[\"provincia_inei\"],\n",
    "        \"NOM_PROVINCIA\": dicc_provincia[\"provincia\"],\n",
    "        \"COD_DEPARTAMENTO\": dicc_provincia[\"departamento_inei\"]\n",
    "    }\n",
    ")"
   ]
  },
  {
   "cell_type": "code",
   "execution_count": 21,
   "metadata": {},
   "outputs": [
    {
     "data": {
      "text/html": [
       "<div>\n",
       "<style scoped>\n",
       "    .dataframe tbody tr th:only-of-type {\n",
       "        vertical-align: middle;\n",
       "    }\n",
       "\n",
       "    .dataframe tbody tr th {\n",
       "        vertical-align: top;\n",
       "    }\n",
       "\n",
       "    .dataframe thead th {\n",
       "        text-align: right;\n",
       "    }\n",
       "</style>\n",
       "<table border=\"1\" class=\"dataframe\">\n",
       "  <thead>\n",
       "    <tr style=\"text-align: right;\">\n",
       "      <th></th>\n",
       "      <th>COD_PROVINCIA</th>\n",
       "      <th>NOM_PROVINCIA</th>\n",
       "      <th>COD_DEPARTAMENTO</th>\n",
       "    </tr>\n",
       "  </thead>\n",
       "  <tbody>\n",
       "    <tr>\n",
       "      <th>0</th>\n",
       "      <td>0101</td>\n",
       "      <td>CHACHAPOYAS</td>\n",
       "      <td>01</td>\n",
       "    </tr>\n",
       "    <tr>\n",
       "      <th>1</th>\n",
       "      <td>0102</td>\n",
       "      <td>BAGUA</td>\n",
       "      <td>01</td>\n",
       "    </tr>\n",
       "    <tr>\n",
       "      <th>2</th>\n",
       "      <td>0103</td>\n",
       "      <td>BONGARA</td>\n",
       "      <td>01</td>\n",
       "    </tr>\n",
       "    <tr>\n",
       "      <th>3</th>\n",
       "      <td>0104</td>\n",
       "      <td>CONDORCANQUI</td>\n",
       "      <td>01</td>\n",
       "    </tr>\n",
       "    <tr>\n",
       "      <th>4</th>\n",
       "      <td>0105</td>\n",
       "      <td>LUYA</td>\n",
       "      <td>01</td>\n",
       "    </tr>\n",
       "    <tr>\n",
       "      <th>...</th>\n",
       "      <td>...</td>\n",
       "      <td>...</td>\n",
       "      <td>...</td>\n",
       "    </tr>\n",
       "    <tr>\n",
       "      <th>191</th>\n",
       "      <td>2403</td>\n",
       "      <td>ZARUMILLA</td>\n",
       "      <td>24</td>\n",
       "    </tr>\n",
       "    <tr>\n",
       "      <th>192</th>\n",
       "      <td>2501</td>\n",
       "      <td>CORONEL PORTILLO</td>\n",
       "      <td>25</td>\n",
       "    </tr>\n",
       "    <tr>\n",
       "      <th>193</th>\n",
       "      <td>2502</td>\n",
       "      <td>ATALAYA</td>\n",
       "      <td>25</td>\n",
       "    </tr>\n",
       "    <tr>\n",
       "      <th>194</th>\n",
       "      <td>2503</td>\n",
       "      <td>PADRE ABAD</td>\n",
       "      <td>25</td>\n",
       "    </tr>\n",
       "    <tr>\n",
       "      <th>195</th>\n",
       "      <td>2504</td>\n",
       "      <td>PURUS</td>\n",
       "      <td>25</td>\n",
       "    </tr>\n",
       "  </tbody>\n",
       "</table>\n",
       "<p>196 rows × 3 columns</p>\n",
       "</div>"
      ],
      "text/plain": [
       "    COD_PROVINCIA     NOM_PROVINCIA COD_DEPARTAMENTO\n",
       "0            0101       CHACHAPOYAS               01\n",
       "1            0102             BAGUA               01\n",
       "2            0103           BONGARA               01\n",
       "3            0104      CONDORCANQUI               01\n",
       "4            0105              LUYA               01\n",
       "..            ...               ...              ...\n",
       "191          2403         ZARUMILLA               24\n",
       "192          2501  CORONEL PORTILLO               25\n",
       "193          2502           ATALAYA               25\n",
       "194          2503        PADRE ABAD               25\n",
       "195          2504             PURUS               25\n",
       "\n",
       "[196 rows x 3 columns]"
      ]
     },
     "execution_count": 21,
     "metadata": {},
     "output_type": "execute_result"
    }
   ],
   "source": [
    "df_provincia"
   ]
  },
  {
   "cell_type": "markdown",
   "metadata": {},
   "source": [
    "##### FILTRO Y LIMPIEZA DE DATOS DEPARTAMENTO"
   ]
  },
  {
   "cell_type": "markdown",
   "metadata": {},
   "source": [
    "###### VERIFICACION DE TIPOS DE CAMPOS"
   ]
  },
  {
   "cell_type": "code",
   "execution_count": 21,
   "metadata": {},
   "outputs": [
    {
     "data": {
      "text/plain": [
       "id_ubigeo              int64\n",
       "ubigeo_reniec        float64\n",
       "ubigeo_inei           object\n",
       "departamento_inei     object\n",
       "departamento          object\n",
       "provincia_inei        object\n",
       "provincia             object\n",
       "distrito              object\n",
       "region                object\n",
       "macroregion_inei      object\n",
       "macroregion_minsa     object\n",
       "iso_3166_2            object\n",
       "fips                   int64\n",
       "superficie           float64\n",
       "altitud              float64\n",
       "latitud              float64\n",
       "longitud             float64\n",
       "Frontera              object\n",
       "dtype: object"
      ]
     },
     "execution_count": 21,
     "metadata": {},
     "output_type": "execute_result"
    }
   ],
   "source": [
    "dicc_ubigeo.dtypes"
   ]
  },
  {
   "cell_type": "markdown",
   "metadata": {},
   "source": [
    "###### ELIMINACION DE REGISTROS DUPLICADOS"
   ]
  },
  {
   "cell_type": "code",
   "execution_count": 22,
   "metadata": {},
   "outputs": [],
   "source": [
    "dicc_distrito = dicc_ubigeo[[\"ubigeo_inei\", \"distrito\", \"provincia_inei\"]].drop_duplicates()"
   ]
  },
  {
   "cell_type": "markdown",
   "metadata": {},
   "source": [
    "###### ORDENACION ASCENDENTE DEL DATAFRAME"
   ]
  },
  {
   "cell_type": "code",
   "execution_count": 23,
   "metadata": {},
   "outputs": [],
   "source": [
    "dicc_distrito = dicc_distrito.sort_values(by=\"ubigeo_inei\", ascending=True)"
   ]
  },
  {
   "cell_type": "markdown",
   "metadata": {},
   "source": [
    "###### RESETEO DEL INDEX DEL DATAFRAME"
   ]
  },
  {
   "cell_type": "code",
   "execution_count": 24,
   "metadata": {},
   "outputs": [],
   "source": [
    "dicc_distrito = dicc_distrito.reset_index(drop=True)"
   ]
  },
  {
   "cell_type": "markdown",
   "metadata": {},
   "source": [
    "###### BUSQUEDA DEL DISTRITO SAN BORJA"
   ]
  },
  {
   "cell_type": "code",
   "execution_count": 25,
   "metadata": {},
   "outputs": [
    {
     "data": {
      "text/html": [
       "<div>\n",
       "<style scoped>\n",
       "    .dataframe tbody tr th:only-of-type {\n",
       "        vertical-align: middle;\n",
       "    }\n",
       "\n",
       "    .dataframe tbody tr th {\n",
       "        vertical-align: top;\n",
       "    }\n",
       "\n",
       "    .dataframe thead th {\n",
       "        text-align: right;\n",
       "    }\n",
       "</style>\n",
       "<table border=\"1\" class=\"dataframe\">\n",
       "  <thead>\n",
       "    <tr style=\"text-align: right;\">\n",
       "      <th></th>\n",
       "      <th>ubigeo_inei</th>\n",
       "      <th>distrito</th>\n",
       "      <th>provincia_inei</th>\n",
       "    </tr>\n",
       "  </thead>\n",
       "  <tbody>\n",
       "    <tr>\n",
       "      <th>1321</th>\n",
       "      <td>150130</td>\n",
       "      <td>SAN BORJA</td>\n",
       "      <td>1501</td>\n",
       "    </tr>\n",
       "  </tbody>\n",
       "</table>\n",
       "</div>"
      ],
      "text/plain": [
       "     ubigeo_inei   distrito provincia_inei\n",
       "1321      150130  SAN BORJA           1501"
      ]
     },
     "execution_count": 25,
     "metadata": {},
     "output_type": "execute_result"
    }
   ],
   "source": [
    "dicc_distrito.loc[dicc_distrito[\"distrito\"] == \"SAN BORJA\"]"
   ]
  },
  {
   "cell_type": "markdown",
   "metadata": {},
   "source": [
    "##### DATAFRAME DF_DISTRITO LIMPIO"
   ]
  },
  {
   "cell_type": "markdown",
   "metadata": {},
   "source": [
    "###### CREACION DEL DATAFRAME DF_DISTRITO A PARTIR DEL DATAFRAME DICC_DISTRITO"
   ]
  },
  {
   "cell_type": "code",
   "execution_count": 25,
   "metadata": {},
   "outputs": [],
   "source": [
    "df_distrito = pd.DataFrame(\n",
    "    {\n",
    "        \"COD_UBIGEO\": dicc_distrito[\"ubigeo_inei\"],\n",
    "        \"NOMB_DISTRITO\": dicc_distrito[\"distrito\"],\n",
    "        \"COD_PROVINCIA\": dicc_distrito[\"provincia_inei\"]\n",
    "    }\n",
    ")"
   ]
  },
  {
   "cell_type": "code",
   "execution_count": 26,
   "metadata": {},
   "outputs": [
    {
     "data": {
      "text/html": [
       "<div>\n",
       "<style scoped>\n",
       "    .dataframe tbody tr th:only-of-type {\n",
       "        vertical-align: middle;\n",
       "    }\n",
       "\n",
       "    .dataframe tbody tr th {\n",
       "        vertical-align: top;\n",
       "    }\n",
       "\n",
       "    .dataframe thead th {\n",
       "        text-align: right;\n",
       "    }\n",
       "</style>\n",
       "<table border=\"1\" class=\"dataframe\">\n",
       "  <thead>\n",
       "    <tr style=\"text-align: right;\">\n",
       "      <th></th>\n",
       "      <th>COD_UBIGEO</th>\n",
       "      <th>NOMB_DISTRITO</th>\n",
       "      <th>COD_PROVINCIA</th>\n",
       "    </tr>\n",
       "  </thead>\n",
       "  <tbody>\n",
       "    <tr>\n",
       "      <th>0</th>\n",
       "      <td>010101</td>\n",
       "      <td>CHACHAPOYAS</td>\n",
       "      <td>0101</td>\n",
       "    </tr>\n",
       "    <tr>\n",
       "      <th>1</th>\n",
       "      <td>010102</td>\n",
       "      <td>ASUNCION</td>\n",
       "      <td>0101</td>\n",
       "    </tr>\n",
       "    <tr>\n",
       "      <th>2</th>\n",
       "      <td>010103</td>\n",
       "      <td>BALSAS</td>\n",
       "      <td>0101</td>\n",
       "    </tr>\n",
       "    <tr>\n",
       "      <th>3</th>\n",
       "      <td>010104</td>\n",
       "      <td>CHETO</td>\n",
       "      <td>0101</td>\n",
       "    </tr>\n",
       "    <tr>\n",
       "      <th>4</th>\n",
       "      <td>010105</td>\n",
       "      <td>CHILIQUIN</td>\n",
       "      <td>0101</td>\n",
       "    </tr>\n",
       "    <tr>\n",
       "      <th>...</th>\n",
       "      <td>...</td>\n",
       "      <td>...</td>\n",
       "      <td>...</td>\n",
       "    </tr>\n",
       "    <tr>\n",
       "      <th>1888</th>\n",
       "      <td>250304</td>\n",
       "      <td>NESHUYA</td>\n",
       "      <td>2503</td>\n",
       "    </tr>\n",
       "    <tr>\n",
       "      <th>1889</th>\n",
       "      <td>250305</td>\n",
       "      <td>ALEXANDER VON HUMBOLDT</td>\n",
       "      <td>2503</td>\n",
       "    </tr>\n",
       "    <tr>\n",
       "      <th>1890</th>\n",
       "      <td>250306</td>\n",
       "      <td>HUIPOCA</td>\n",
       "      <td>2503</td>\n",
       "    </tr>\n",
       "    <tr>\n",
       "      <th>1891</th>\n",
       "      <td>250307</td>\n",
       "      <td>BOQUERON</td>\n",
       "      <td>2503</td>\n",
       "    </tr>\n",
       "    <tr>\n",
       "      <th>1892</th>\n",
       "      <td>250401</td>\n",
       "      <td>PURUS</td>\n",
       "      <td>2504</td>\n",
       "    </tr>\n",
       "  </tbody>\n",
       "</table>\n",
       "<p>1893 rows × 3 columns</p>\n",
       "</div>"
      ],
      "text/plain": [
       "     COD_UBIGEO           NOMB_DISTRITO COD_PROVINCIA\n",
       "0        010101             CHACHAPOYAS          0101\n",
       "1        010102                ASUNCION          0101\n",
       "2        010103                  BALSAS          0101\n",
       "3        010104                   CHETO          0101\n",
       "4        010105               CHILIQUIN          0101\n",
       "...         ...                     ...           ...\n",
       "1888     250304                 NESHUYA          2503\n",
       "1889     250305  ALEXANDER VON HUMBOLDT          2503\n",
       "1890     250306                 HUIPOCA          2503\n",
       "1891     250307                BOQUERON          2503\n",
       "1892     250401                   PURUS          2504\n",
       "\n",
       "[1893 rows x 3 columns]"
      ]
     },
     "execution_count": 26,
     "metadata": {},
     "output_type": "execute_result"
    }
   ],
   "source": [
    "df_distrito"
   ]
  },
  {
   "cell_type": "markdown",
   "metadata": {},
   "source": [
    "##### CONVERTIR A CSV"
   ]
  },
  {
   "cell_type": "markdown",
   "metadata": {},
   "source": [
    "###### CONVERSION DEL DATAFRAME DF_DEPARTAMENTO A FORMATO CSV"
   ]
  },
  {
   "cell_type": "code",
   "execution_count": 27,
   "metadata": {},
   "outputs": [],
   "source": [
    "df_departamento.to_csv(\"../FINAL-CSV'S/TB_DEPARTAMENTO.csv\", index=False)"
   ]
  },
  {
   "cell_type": "markdown",
   "metadata": {},
   "source": [
    "###### CONVERSION DEL DATAFRAME DF_PROVINCIA A FORMATO CSV"
   ]
  },
  {
   "cell_type": "code",
   "execution_count": 28,
   "metadata": {},
   "outputs": [],
   "source": [
    "df_provincia.to_csv(\"../FINAL-CSV'S/TB_PROVINCIA.csv\", index=False)"
   ]
  },
  {
   "cell_type": "markdown",
   "metadata": {},
   "source": [
    "###### CONVERSION DEL DATAFRAME DF_DISTRITO A FORMATO CSV"
   ]
  },
  {
   "cell_type": "code",
   "execution_count": 29,
   "metadata": {},
   "outputs": [],
   "source": [
    "df_distrito.to_csv(\"../FINAL-CSV'S/TB_DISTRITO.csv\", index=False)"
   ]
  }
 ],
 "metadata": {
  "kernelspec": {
   "display_name": "Python 3",
   "language": "python",
   "name": "python3"
  },
  "language_info": {
   "codemirror_mode": {
    "name": "ipython",
    "version": 3
   },
   "file_extension": ".py",
   "mimetype": "text/x-python",
   "name": "python",
   "nbconvert_exporter": "python",
   "pygments_lexer": "ipython3",
   "version": "3.12.0"
  }
 },
 "nbformat": 4,
 "nbformat_minor": 2
}
